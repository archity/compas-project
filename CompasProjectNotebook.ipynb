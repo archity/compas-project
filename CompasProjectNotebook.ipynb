{
 "cells": [
  {
   "cell_type": "markdown",
   "source": [
    "# Introduction to Data Analysis\n",
    "\n",
    "## Experiment on COMPAS Dataset\n",
    "### Author: Archit YADAV"
   ],
   "metadata": {
    "collapsed": false,
    "pycharm": {
     "name": "#%% md\n"
    }
   }
  },
  {
   "cell_type": "markdown",
   "source": [
    "## 0. Download the data\n",
    "\n",
    "We first need to load the data from the ProPublica repo:\n",
    "https://github.com/propublica/compas-analysis"
   ],
   "metadata": {
    "collapsed": false,
    "pycharm": {
     "name": "#%% md\n"
    }
   }
  },
  {
   "cell_type": "code",
   "execution_count": 1,
   "metadata": {
    "collapsed": true,
    "pycharm": {
     "is_executing": false
    }
   },
   "outputs": [
    {
     "name": "stdout",
     "text": [
      "'%s' not found! Downloading from GitHub... compas-scores-two-years.csv\n"
     ],
     "output_type": "stream"
    }
   ],
   "source": [
    "import urllib\n",
    "import os,sys\n",
    "import numpy as np\n",
    "import pandas as pd\n",
    "import matplotlib.pyplot as plt \n",
    "\n",
    "from sklearn import feature_extraction\n",
    "from sklearn import preprocessing\n",
    "from random import seed, shuffle\n",
    "\n",
    "\n",
    "SEED = 1234\n",
    "seed(SEED)\n",
    "np.random.seed(SEED)\n",
    "\n",
    "def check_data_file(fname):\n",
    "    \n",
    "    print(\"'%s' not found! Downloading from GitHub...\",fname)\n",
    "    addr = \"https://raw.githubusercontent.com/propublica/compas-analysis/master/compas-scores-two-years.csv\"\n",
    "    response = urllib.request.urlopen(addr)\n",
    "    data = response.read()\n",
    "    fileOut = open(fname, \"wb\")\n",
    "    fileOut.write(data)\n",
    "    fileOut.close()\n",
    "    #print(\"'%s' download and saved locally..\",fname)\n",
    "    \n",
    "    \n",
    "COMPAS_INPUT_FILE = \"compas-scores-two-years.csv\"\n",
    "check_data_file(COMPAS_INPUT_FILE)  "
   ]
  },
  {
   "cell_type": "code",
   "execution_count": 3,
   "outputs": [
    {
     "name": "stdout",
     "text": [
      "Coloumns:  53\n",
      "Rows:  7214\n",
      "(Rows, Cols) :  (7214, 53)\n",
      "All the headers of the dataset:\n",
      "  Index(['id', 'name', 'first', 'last', 'compas_screening_date', 'sex', 'dob',\n",
      "       'age', 'age_cat', 'race', 'juv_fel_count', 'decile_score',\n",
      "       'juv_misd_count', 'juv_other_count', 'priors_count',\n",
      "       'days_b_screening_arrest', 'c_jail_in', 'c_jail_out', 'c_case_number',\n",
      "       'c_offense_date', 'c_arrest_date', 'c_days_from_compas',\n",
      "       'c_charge_degree', 'c_charge_desc', 'is_recid', 'r_case_number',\n",
      "       'r_charge_degree', 'r_days_from_arrest', 'r_offense_date',\n",
      "       'r_charge_desc', 'r_jail_in', 'r_jail_out', 'violent_recid',\n",
      "       'is_violent_recid', 'vr_case_number', 'vr_charge_degree',\n",
      "       'vr_offense_date', 'vr_charge_desc', 'type_of_assessment',\n",
      "       'decile_score.1', 'score_text', 'screening_date',\n",
      "       'v_type_of_assessment', 'v_decile_score', 'v_score_text',\n",
      "       'v_screening_date', 'in_custody', 'out_custody', 'priors_count.1',\n",
      "       'start', 'end', 'event', 'two_year_recid'],\n",
      "      dtype='object')\n"
     ],
     "output_type": "stream"
    }
   ],
   "source": [
    "dataObj = pd.read_csv(\"compas-scores-two-years.csv\")\n",
    "\n",
    "print(\"Coloumns: \", len(dataObj.columns))\n",
    "print(\"Rows: \", len(dataObj))\n",
    "\n",
    "print(\"(Rows, Cols) : \", dataObj.shape)\n",
    "\n",
    "# print(\"First 5 entries: \", dataObj.head())\n",
    "\n",
    "print(\"All the headers of the dataset:\\n \", dataObj.keys())\n"
   ],
   "metadata": {
    "collapsed": false,
    "pycharm": {
     "name": "#%%\n",
     "is_executing": false
    }
   }
  },
  {
   "cell_type": "markdown",
   "source": [
    "# 1. Dataset Exploration"
   ],
   "metadata": {
    "collapsed": false
   }
  },
  {
   "cell_type": "markdown",
   "source": [
    "## 1.1 Basic analysis of demographics\n",
    "\n",
    "- What are the different races present in the dataset? \n",
    "\n",
    "- What is the number of people by age category?\n",
    "\n",
    "- What is the number of people by race?\n",
    "\n",
    "- What is the number of people by COMPAS score (decile_score)?\n",
    "\n",
    "- What is the number of people by COMPAS risk category (score_text)?"
   ],
   "metadata": {
    "collapsed": false
   }
  },
  {
   "cell_type": "code",
   "execution_count": 4,
   "outputs": [
    {
     "name": "stdout",
     "text": [
      "Here are all the unique races in the dataset: \n",
      "\n",
      "['Other' 'African-American' 'Caucasian' 'Hispanic' 'Native American'\n",
      " 'Asian']\n",
      "\n",
      "\n",
      "Age category and their count: \n",
      "\n",
      "25 - 45            4109\n",
      "Greater than 45    1576\n",
      "Less than 25       1529\n",
      "Name: age_cat, dtype: int64\n",
      "\n",
      "\n",
      "Race category and their count: \n",
      "\n",
      "African-American    3696\n",
      "Caucasian           2454\n",
      "Hispanic             637\n",
      "Other                377\n",
      "Asian                 32\n",
      "Native American       18\n",
      "Name: race, dtype: int64\n",
      "\n",
      "\n",
      "Number of people by decile score: \n",
      "\n",
      "1     1440\n",
      "2      941\n",
      "4      769\n",
      "3      747\n",
      "5      681\n",
      "6      641\n",
      "7      592\n",
      "8      512\n",
      "9      508\n",
      "10     383\n",
      "Name: decile_score, dtype: int64\n",
      "\n",
      "\n",
      "Number of people by decile_score category: \n",
      "\n",
      "Low       3897\n",
      "Medium    1914\n",
      "High      1403\n",
      "Name: score_text, dtype: int64\n"
     ],
     "output_type": "stream"
    }
   ],
   "source": [
    "# Printing all the unique values of possible races.\n",
    "print(\"Here are all the unique races in the dataset: \\n\")\n",
    "print(dataObj[\"race\"].unique())\n",
    "\n",
    "print(\"\\n\")\n",
    "\n",
    "# Printing number of people by age range.\n",
    "print(\"Age category and their count: \\n\")\n",
    "print( dataObj[\"age_cat\"].value_counts() )\n",
    "\n",
    "print(\"\\n\")\n",
    "\n",
    "# Printing number of people by race.\n",
    "print(\"Race category and their count: \\n\")\n",
    "print( dataObj[\"race\"].value_counts() )\n",
    "\n",
    "print(\"\\n\")\n",
    "\n",
    "# Printing number of people by decile_score.\n",
    "print(\"Number of people by decile score: \\n\")\n",
    "print( dataObj[\"decile_score\"].value_counts() )\n",
    "\n",
    "print(\"\\n\")\n",
    "\n",
    "\n",
    "# Printing number of people by decile_score category.\n",
    "print(\"Number of people by decile_score category: \\n\")\n",
    "print( dataObj[\"score_text\"].value_counts() )"
   ],
   "metadata": {
    "collapsed": false,
    "pycharm": {
     "name": "#%%\n",
     "is_executing": false
    }
   }
  },
  {
   "cell_type": "markdown",
   "source": [
    "## 1.2 Basic investigations of gender and race bias in COMPAS scores\n",
    "\n",
    "decile_score -- is the score given by the COMPAS algorithm that estimates the risk to re-offend.\n",
    "\n",
    "two_years_recid -- is the ground truth data on whether the offender recidivated or not\n",
    "\n",
    "- What is the mean COMPAS score (decile_score) per race and gender? \n",
    "\n",
    "- What is the distribution (histogram) of decile_score per race and gender? \n",
    "\n",
    "The two_year_recid field records whether or not each person was re-arrested for a violent offense within two years, which is what COMPAS is trying to predict.\n",
    "\n",
    "- How many people were re-arrested? \n",
    "\n",
    "- Compute the recidivism (i.e., people that got re-arrested) rates by race and gender\n"
   ],
   "metadata": {
    "collapsed": false
   }
  },
  {
   "cell_type": "markdown",
   "source": [
    "### COMPAS Score per race"
   ],
   "metadata": {
    "collapsed": false,
    "pycharm": {
     "name": "#%% md\n"
    }
   }
  },
  {
   "cell_type": "code",
   "execution_count": 26,
   "outputs": [
    {
     "data": {
      "text/plain": "<Figure size 720x360 with 1 Axes>",
      "image/png": "[encoded data removed]"
     },
     "metadata": {
      "needs_background": "light"
     },
     "output_type": "display_data"
    }
   ],
   "source": [
    "# df2 = dataObj[dataObj[\"race\"] == \"Caucasian\"]\n",
    "raceObj = dataObj.groupby(\"race\")\n",
    "raceObj.get_group(\"Caucasian\")[\"decile_score\"].mean()\n",
    "\n",
    "tick_label = dataObj[\"race\"].unique()\n",
    "\n",
    "fig= plt.figure(figsize=(10,5))\n",
    "\n",
    "# x-coordinates of left sides of bars  \n",
    "left = [1, 20, 40, 60, 80, 100]\n",
    "\n",
    "# heights of bars \n",
    "height = [raceObj.get_group(\"Other\")[\"decile_score\"].mean(), raceObj.get_group(\"African-American\")[\"decile_score\"].mean(), raceObj.get_group(\"Caucasian\")[\"decile_score\"].mean(), raceObj.get_group(\"Hispanic\")[\"decile_score\"].mean(), raceObj.get_group(\"Native American\")[\"decile_score\"].mean(), raceObj.get_group(\"Asian\")[\"decile_score\"].mean()] \n",
    "# plotting a bar chart \n",
    "plt.bar(left, height, tick_label = tick_label, \n",
    "        width = 8, color = ['red']) \n",
    "\n",
    "plt.savefig('AvgDecilePerRace', dpi = 800)"
   ],
   "metadata": {
    "collapsed": false,
    "pycharm": {
     "name": "#%%# Mean COMPAS score per race\n",
     "is_executing": false
    }
   }
  },
  {
   "cell_type": "markdown",
   "source": [
    "### COMPAS Score per gender"
   ],
   "metadata": {
    "collapsed": false
   }
  },
  {
   "cell_type": "code",
   "execution_count": 28,
   "outputs": [
    {
     "name": "stdout",
     "text": [
      "[4.5904794638254, 4.172043010752688]\n"
     ],
     "output_type": "stream"
    },
    {
     "data": {
      "text/plain": "<Figure size 720x360 with 1 Axes>",
      "image/png": "[encoded data removed]"
     },
     "metadata": {
      "needs_background": "light"
     },
     "output_type": "display_data"
    }
   ],
   "source": [
    "# df2 = dataObj[dataObj[\"race\"] == \"Caucasian\"]\n",
    "raceObj = dataObj.groupby(\"sex\")\n",
    "\n",
    "tick_label = dataObj[\"sex\"].unique()\n",
    "\n",
    "fig= plt.figure(figsize=(10,5))\n",
    "\n",
    "# x-coordinates of left sides of bars  \n",
    "left = [1, 20]\n",
    "\n",
    "# heights of bars \n",
    "height = [raceObj.get_group(\"Male\")[\"decile_score\"].mean(), raceObj.get_group(\"Female\")[\"decile_score\"].mean()] \n",
    "# plotting a bar chart \n",
    "plt.bar(left, height, tick_label = tick_label, \n",
    "        width = 8, color = ['blue', 'pink']) \n",
    "\n",
    "plt.savefig('AvgDecilePerGender.png', dpi = 800)\n",
    "print(height)"
   ],
   "metadata": {
    "collapsed": false,
    "pycharm": {
     "name": "#%%# Mean COMPAS score per gender\n",
     "is_executing": false
    }
   }
  },
  {
   "cell_type": "markdown",
   "source": [],
   "metadata": {
    "collapsed": false,
    "pycharm": {
     "name": "#%% md\n"
    }
   }
  },
  {
   "cell_type": "markdown",
   "source": [
    "### 2 Year Recid Count"
   ],
   "metadata": {
    "collapsed": false,
    "pycharm": {
     "name": "#%% md\n"
    }
   }
  },
  {
   "cell_type": "code",
   "execution_count": 30,
   "outputs": [
    {
     "name": "stdout",
     "text": [
      "0    3963\n",
      "1    3251\n",
      "Name: two_year_recid, dtype: int64\n"
     ],
     "output_type": "stream"
    },
    {
     "data": {
      "text/plain": "<Figure size 432x288 with 1 Axes>",
      "image/png": "[encoded data removed]"
     },
     "metadata": {},
     "output_type": "display_data"
    }
   ],
   "source": [
    "# Printing number of people by decile_score category.\n",
    "print( dataObj[\"two_year_recid\"].value_counts() )\n",
    "\n",
    "twoYearRecidObj = dataObj.groupby(\"two_year_recid\")\n",
    "slices = [3963, 3251]\n",
    "# defining labels \n",
    "activities = ['0', '1'] \n",
    "\n",
    "plt.pie(slices, labels=activities, startangle=90, radius=1.5, autopct = '%1.1f%%')\n",
    "# plotting legend \n",
    "plt.legend() \n",
    "\n",
    "plt.savefig('decilePieTotal', dpi = 800)"
   ],
   "metadata": {
    "collapsed": false,
    "pycharm": {
     "name": "#%%# two_year_recid\n",
     "is_executing": false
    }
   }
  },
  {
   "cell_type": "markdown",
   "source": [
    "* About `3251` people `(45.1%)` people were re-arrested for violent offense within 2 years after getting out.\n",
    " "
   ],
   "metadata": {
    "collapsed": false
   }
  },
  {
   "cell_type": "markdown",
   "source": [
    "### Histogram Plots\n",
    "\n",
    "* African-American Deciel Scores"
   ],
   "metadata": {
    "collapsed": false,
    "pycharm": {
     "name": "#%% md\n"
    }
   }
  },
  {
   "cell_type": "code",
   "execution_count": 32,
   "outputs": [
    {
     "data": {
      "text/plain": "<Figure size 432x288 with 1 Axes>",
      "image/png": "[encoded data removed]"
     },
     "metadata": {
      "needs_background": "light"
     },
     "output_type": "display_data"
    }
   ],
   "source": [
    "df = pd.DataFrame(dataObj)\n",
    "\n",
    "black_df = df[df['race'] == 'African-American']\n",
    "black_df['decile_score'].hist(color='black', edgecolor='white', bins=np.arange(13)-0.5)\n",
    "plt.ylim([0,700])\n",
    "plt.xlim([0,11])\n",
    "plt.title('African-American decile scores')\n",
    "plt.xlabel('Decile score')\n",
    "plt.ylabel('Count')\n",
    "plt.savefig('African-American_Decile_Histo', dpi = 800)"
   ],
   "metadata": {
    "collapsed": false,
    "pycharm": {
     "name": "#%%\n",
     "is_executing": false
    }
   }
  },
  {
   "cell_type": "markdown",
   "source": [
    "* Caucasian Decile Scores"
   ],
   "metadata": {
    "collapsed": false
   }
  },
  {
   "cell_type": "code",
   "execution_count": 33,
   "outputs": [
    {
     "data": {
      "text/plain": "<Figure size 432x288 with 1 Axes>",
      "image/png": "[encoded data removed]"
     },
     "metadata": {
      "needs_background": "light"
     },
     "output_type": "display_data"
    }
   ],
   "source": [
    "df = pd.DataFrame(dataObj)\n",
    "\n",
    "black_df = df[df['race'] == 'Caucasian']\n",
    "black_df['decile_score'].hist(color='pink', edgecolor='white', bins=np.arange(13)-0.5)\n",
    "plt.ylim([0,700])\n",
    "plt.xlim([0,11])\n",
    "plt.title('Caucasian decile scores')\n",
    "plt.xlabel('Decile score')\n",
    "plt.ylabel('Count')\n",
    "\n",
    "plt.savefig('Caucasian_Decile_Histo', dpi = 800)"
   ],
   "metadata": {
    "collapsed": false,
    "pycharm": {
     "name": "#%%\n",
     "is_executing": false
    }
   }
  },
  {
   "cell_type": "markdown",
   "source": [
    "* Hispanic Decile Scores"
   ],
   "metadata": {
    "collapsed": false
   }
  },
  {
   "cell_type": "code",
   "execution_count": 34,
   "outputs": [
    {
     "data": {
      "text/plain": "<Figure size 432x288 with 1 Axes>",
      "image/png": "[encoded data removed]"
     },
     "metadata": {
      "needs_background": "light"
     },
     "output_type": "display_data"
    }
   ],
   "source": [
    "df = pd.DataFrame(dataObj)\n",
    "\n",
    "black_df = df[df['race'] == 'Hispanic']\n",
    "black_df['decile_score'].hist(color='peru', edgecolor='white', bins=np.arange(13)-0.5)\n",
    "plt.ylim([0,700])\n",
    "plt.xlim([0,11])\n",
    "plt.title('Hispanic decile scores')\n",
    "plt.xlabel('Decile score')\n",
    "plt.ylabel('Count')\n",
    "\n",
    "plt.savefig('Hispanic_Decile_Histo', dpi = 800)"
   ],
   "metadata": {
    "collapsed": false,
    "pycharm": {
     "name": "#%%\n",
     "is_executing": false
    }
   }
  },
  {
   "cell_type": "markdown",
   "source": [
    "* Asian Decile Scores"
   ],
   "metadata": {
    "collapsed": false
   }
  },
  {
   "cell_type": "code",
   "execution_count": 35,
   "outputs": [
    {
     "data": {
      "text/plain": "<Figure size 432x288 with 1 Axes>",
      "image/png": "[encoded data removed]"
     },
     "metadata": {
      "needs_background": "light"
     },
     "output_type": "display_data"
    }
   ],
   "source": [
    "df = pd.DataFrame(dataObj)\n",
    "\n",
    "black_df = df[df['race'] == 'Asian']\n",
    "black_df['decile_score'].hist(color='brown', edgecolor='white', bins=np.arange(13)-0.5)\n",
    "plt.ylim([0,700])\n",
    "plt.xlim([0,11])\n",
    "plt.title('Asian decile scores')\n",
    "plt.xlabel('Decile score')\n",
    "plt.ylabel('Count')\n",
    "\n",
    "plt.savefig('Asian_Decile_Histo', dpi = 800)"
   ],
   "metadata": {
    "collapsed": false,
    "pycharm": {
     "name": "#%%\n",
     "is_executing": false
    }
   }
  },
  {
   "cell_type": "markdown",
   "source": [
    "### Recedivism rates by gender and race"
   ],
   "metadata": {
    "collapsed": false
   }
  },
  {
   "cell_type": "code",
   "execution_count": 37,
   "outputs": [
    {
     "data": {
      "text/plain": "<Figure size 720x360 with 1 Axes>",
      "image/png": "[encoded data removed]"
     },
     "metadata": {
      "needs_background": "light"
     },
     "output_type": "display_data"
    }
   ],
   "source": [
    "# df2 = dataObj[dataObj[\"race\"] == \"Caucasian\"]\n",
    "raceObj = dataObj.groupby(\"race\")\n",
    "tick_label = dataObj[\"race\"].unique()\n",
    "\n",
    "fig= plt.figure(figsize=(10,5))\n",
    "\n",
    "# x-coordinates of left sides of bars  \n",
    "left = [1, 20, 40, 60, 80, 100]\n",
    "\n",
    "# heights of bars \n",
    "height = [raceObj.get_group(\"Other\")[\"two_year_recid\"].value_counts().get(1), raceObj.get_group(\"African-American\")[\"two_year_recid\"].value_counts().get(1), raceObj.get_group(\"Caucasian\")[\"two_year_recid\"].value_counts().get(1), raceObj.get_group(\"Hispanic\")[\"two_year_recid\"].value_counts().get(1), raceObj.get_group(\"Native American\")[\"two_year_recid\"].value_counts().get(1), raceObj.get_group(\"Asian\")[\"two_year_recid\"].value_counts().get(1)] \n",
    "# plotting a bar chart \n",
    "plt.bar(left, height, tick_label = tick_label, \n",
    "        width = 8, color = ['red']) \n",
    "\n",
    "plt.savefig('2YearRecid_RaceCount', dpi = 800)"
   ],
   "metadata": {
    "collapsed": false,
    "pycharm": {
     "name": "#%%\n",
     "is_executing": false
    }
   }
  },
  {
   "cell_type": "code",
   "execution_count": 39,
   "outputs": [],
   "source": [
    "raceObj = dataObj.groupby(\"sex\")\n",
    "tick_label = dataObj[\"sex\"].unique()"
   ],
   "metadata": {
    "collapsed": false,
    "pycharm": {
     "name": "#%%\n",
     "is_executing": false
    }
   }
  },
  {
   "cell_type": "code",
   "execution_count": 40,
   "outputs": [
    {
     "data": {
      "text/plain": "<Figure size 720x360 with 1 Axes>",
      "image/png": "[encoded data removed]"
     },
     "metadata": {
      "needs_background": "light"
     },
     "output_type": "display_data"
    }
   ],
   "source": [
    "fig= plt.figure(figsize=(10,5))\n",
    "\n",
    "# x-coordinates of left sides of bars  \n",
    "left = [1, 20]\n",
    "\n",
    "# heights of bars \n",
    "height = [raceObj.get_group(\"Male\")[\"two_year_recid\"].value_counts().get(1), raceObj.get_group(\"Female\")[\"two_year_recid\"].value_counts().get(1)] \n",
    "# plotting a bar chart \n",
    "plt.bar(left, height, tick_label = tick_label, \n",
    "        width = 8, color = ['blue', 'pink'])\n",
    "\n",
    "plt.savefig('2YearRecid_sex', dpi = 800)"
   ],
   "metadata": {
    "collapsed": false,
    "pycharm": {
     "name": "#%%\n",
     "is_executing": false
    }
   }
  },
  {
   "cell_type": "markdown",
   "source": [
    "# 2. Standard Classifier\n",
    "\n",
    "## 2.1 Logistic Regression\n",
    "\n",
    "* `dataObj` consists the the read CSV file \n",
    "through Pandas variable `pd`\n",
    "\n",
    "* Variable to predict - `two_year_recid`\n",
    "* Variable used as input - `v_decile_score`, `decile_score`, `race` and `sex`\n",
    "* We know `race` is also an important criterion "
   ],
   "metadata": {
    "collapsed": false,
    "pycharm": {
     "name": "#%% md\n",
     "is_executing": false
    }
   }
  },
  {
   "cell_type": "code",
   "execution_count": 44,
   "outputs": [
    {
     "name": "stdout",
     "text": [
      "Output variable:  ['two_year_recid']\n",
      "Input: variable:  ['v_decile_score' 'decile_score' 'race']\n"
     ],
     "output_type": "stream"
    }
   ],
   "source": [
    "# dataObj consists the the read CSV file \n",
    "# through Pandas variable pd\n",
    "\n",
    "# To predict variable - decile_score\n",
    "\n",
    "from sklearn.linear_model import LogisticRegression\n",
    "from sklearn import metrics\n",
    "from sklearn.model_selection import train_test_split\n",
    "dataObjLR = dataObj\n",
    "\n",
    "dataObjLR.columns.values\n",
    "\n",
    "df = pd.DataFrame(dataObjLR)\n",
    "\n",
    "#print(dropped)\n",
    "\n",
    "# Mapping string race to integer values\n",
    "df.replace(['Other', 'African-American', 'Caucasian', 'Hispanic', 'Native American', 'Asian'], [0, 1, 2, 3, 4, 5], inplace=True)\n",
    "df.replace(['Male', 'Female'], [0, 1], inplace=True)\n",
    "\n",
    "#print(df.sex)\n",
    "\n",
    "y = df[[\"two_year_recid\"]]\n",
    "X = df[[\"v_decile_score\", \"decile_score\", \"race\"]]\n",
    "\n",
    "print(\"Output variable: \", y.columns.values)\n",
    "print(\"Input: variable: \", X.columns.values)"
   ],
   "metadata": {
    "collapsed": false,
    "pycharm": {
     "name": "#%%\n",
     "is_executing": false
    }
   }
  },
  {
   "cell_type": "code",
   "execution_count": 45,
   "outputs": [
    {
     "name": "stdout",
     "text": [
      "Accuracy of logistic regression: 0.66\n"
     ],
     "output_type": "stream"
    },
    {
     "name": "stderr",
     "text": [
      "c:\\users\\archi\\pycharmprojects\\compasproject\\venv\\lib\\site-packages\\sklearn\\utils\\validation.py:760: DataConversionWarning: A column-vector y was passed when a 1d array was expected. Please change the shape of y to (n_samples, ), for example using ravel().\n",
      "  y = column_or_1d(y, warn=True)\n"
     ],
     "output_type": "stream"
    }
   ],
   "source": [
    "# Training and testing\n",
    "\n",
    "X_train, X_test, y_train, y_test = train_test_split(X, y, test_size=0.3, random_state=0)\n",
    "\n",
    "logreg = LogisticRegression()\n",
    "logreg.fit(X_train, y_train)\n",
    "\n",
    "y_pred = logreg.predict(X_test)\n",
    "print('Accuracy of logistic regression: {:.2f}'.format(logreg.score(X_test, y_test)))"
   ],
   "metadata": {
    "collapsed": false,
    "pycharm": {
     "name": "#%%\n",
     "is_executing": false
    }
   }
  },
  {
   "cell_type": "markdown",
   "source": [
    "\n",
    "* ROC Curve"
   ],
   "metadata": {
    "collapsed": false,
    "pycharm": {
     "name": "#%% md\n"
    }
   }
  },
  {
   "cell_type": "code",
   "execution_count": 46,
   "outputs": [
    {
     "data": {
      "text/plain": "<Figure size 576x432 with 1 Axes>",
      "image/png": "[encoded data removed]"
     },
     "metadata": {
      "needs_background": "light"
     },
     "output_type": "display_data"
    }
   ],
   "source": [
    "from sklearn.metrics import roc_auc_score\n",
    "from sklearn.metrics import roc_curve\n",
    "logit_roc_auc = roc_auc_score(y_test, logreg.predict(X_test))\n",
    "fpr, tpr, thresholds = roc_curve(y_test, logreg.predict_proba(X_test)[:,1])\n",
    "plt.figure(figsize=(8.00,6.00))\n",
    "plt.plot(fpr, tpr, label='Logistic Regression (area = %0.2f)' % logit_roc_auc)\n",
    "plt.plot([0, 1], [0, 1],'r--')\n",
    "plt.xlim([0.0, 1.0])\n",
    "plt.ylim([0.0, 1.05])\n",
    "plt.xlabel('False Positive Rate')\n",
    "plt.ylabel('True Positive Rate')\n",
    "plt.title('Receiver operating characteristic')\n",
    "plt.legend(loc=\"lower right\")\n",
    "plt.savefig('Log_ROC', dpi = 800)\n",
    "plt.show()"
   ],
   "metadata": {
    "collapsed": false,
    "pycharm": {
     "name": "#%%\n",
     "is_executing": false
    }
   }
  },
  {
   "cell_type": "markdown",
   "source": [
    "## 2.2 KNN"
   ],
   "metadata": {
    "collapsed": false,
    "pycharm": {
     "name": "#%% md\n"
    }
   }
  },
  {
   "cell_type": "code",
   "execution_count": 117,
   "outputs": [
    {
     "name": "stderr",
     "text": [
      "c:\\users\\archi\\pycharmprojects\\compasproject\\venv\\lib\\site-packages\\ipykernel_launcher.py:7: DataConversionWarning: A column-vector y was passed when a 1d array was expected. Please change the shape of y to (n_samples, ), for example using ravel().\n",
      "  import sys\n"
     ],
     "output_type": "stream"
    },
    {
     "data": {
      "text/plain": "0.6036951501154735"
     },
     "metadata": {},
     "output_type": "execute_result",
     "execution_count": 117
    }
   ],
   "source": [
    "from sklearn.neighbors import KNeighborsClassifier\n",
    "\n",
    "# Create KNN classifier\n",
    "knn = KNeighborsClassifier(n_neighbors = 2)\n",
    "\n",
    "# Fit the classifier to the data\n",
    "knn.fit(X_train,y_train)\n",
    "\n",
    "#show predictions on the test data\n",
    "knn.predict(X_test)"
   ],
   "metadata": {
    "collapsed": false,
    "pycharm": {
     "name": "#%%\n",
     "is_executing": false
    }
   }
  },
  {
   "cell_type": "markdown",
   "source": [
    "* Accuracy Meterics"
   ],
   "metadata": {
    "collapsed": false
   }
  },
  {
   "cell_type": "code",
   "execution_count": null,
   "outputs": [],
   "source": [
    "#check accuracy of our model on the test data\n",
    "knn.score(X_test, y_test)"
   ],
   "metadata": {
    "collapsed": false,
    "pycharm": {
     "name": "#%%\n"
    }
   }
  },
  {
   "cell_type": "markdown",
   "source": [
    "* ROC Curve"
   ],
   "metadata": {
    "collapsed": false
   }
  },
  {
   "cell_type": "code",
   "execution_count": 118,
   "outputs": [
    {
     "data": {
      "text/plain": "<Figure size 576x432 with 1 Axes>",
      "image/png": "[encoded data removed]"
     },
     "metadata": {
      "needs_background": "light"
     },
     "output_type": "display_data"
    }
   ],
   "source": [
    "from sklearn.metrics import roc_auc_score\n",
    "from sklearn.metrics import roc_curve\n",
    "knn_roc_auc = roc_auc_score(y_test, knn.predict(X_test))\n",
    "fpr, tpr, thresholds = roc_curve(y_test, knn.predict_proba(X_test)[:,1])\n",
    "plt.figure(figsize=(8.00,6.00))\n",
    "plt.plot(fpr, tpr, label='KNN (area = %0.2f)' % knn_roc_auc)\n",
    "plt.plot([0, 1], [0, 1],'r--')\n",
    "plt.xlim([0.0, 1.0])\n",
    "plt.ylim([0.0, 1.05])\n",
    "plt.xlabel('False Positive Rate')\n",
    "plt.ylabel('True Positive Rate')\n",
    "plt.title('Receiver operating characteristic')\n",
    "plt.legend(loc=\"lower right\")\n",
    "plt.savefig('Log_ROC', dpi = 800)\n",
    "plt.show()\n"
   ],
   "metadata": {
    "collapsed": false,
    "pycharm": {
     "name": "#%%\n",
     "is_executing": false
    }
   }
  },
  {
   "cell_type": "markdown",
   "source": [
    "## 2.3 MLP"
   ],
   "metadata": {
    "collapsed": false,
    "pycharm": {
     "name": "#%% md\n"
    }
   }
  },
  {
   "cell_type": "code",
   "execution_count": 120,
   "outputs": [
    {
     "name": "stderr",
     "text": [
      "c:\\users\\archi\\pycharmprojects\\compasproject\\venv\\lib\\site-packages\\sklearn\\neural_network\\_multilayer_perceptron.py:934: DataConversionWarning: A column-vector y was passed when a 1d array was expected. Please change the shape of y to (n_samples, ), for example using ravel().\n",
      "  y = column_or_1d(y, warn=True)\n"
     ],
     "output_type": "stream"
    },
    {
     "name": "stdout",
     "text": [
      "Accuracy of MLPClassifier :  0.6706697459584295\n"
     ],
     "output_type": "stream"
    }
   ],
   "source": [
    "from sklearn.neural_network import MLPClassifier\n",
    "#Initializing the MLPClassifier\n",
    "classifier = MLPClassifier(hidden_layer_sizes=(150,100,50), max_iter=300,activation = 'relu',solver='adam',random_state=1)\n",
    "\n",
    "#Fitting the training data to the network\n",
    "classifier.fit(X_train, y_train)\n",
    "\n",
    "#Predicting y for X_val\n",
    "y_pred = classifier.predict(X_test)\n",
    "\n",
    "#Importing Confusion Matrix\n",
    "from sklearn.metrics import confusion_matrix\n",
    "#Comparing the predictions against the actual observations in y_val\n",
    "cm = confusion_matrix(y_pred, y_test)\n",
    "\n",
    "def accuracy(confusion_matrix):\n",
    "   diagonal_sum = confusion_matrix.trace()\n",
    "   sum_of_all_elements = confusion_matrix.sum()\n",
    "   return diagonal_sum / sum_of_all_elements\n",
    "\n",
    "\n",
    "\n",
    "#Printing the accuracy\n",
    "print(\"Accuracy of MLPClassifier : \", accuracy(cm))"
   ],
   "metadata": {
    "collapsed": false,
    "pycharm": {
     "name": "#%%\n",
     "is_executing": false
    }
   }
  },
  {
   "cell_type": "markdown",
   "source": [
    "* ROC Curve"
   ],
   "metadata": {
    "collapsed": false
   }
  },
  {
   "cell_type": "code",
   "execution_count": 124,
   "outputs": [
    {
     "data": {
      "text/plain": "<Figure size 576x432 with 1 Axes>",
      "image/png": "[encoded data removed]"
     },
     "metadata": {
      "needs_background": "light"
     },
     "output_type": "display_data"
    }
   ],
   "source": [
    "from sklearn.metrics import roc_auc_score\n",
    "from sklearn.metrics import roc_curve\n",
    "classifier_roc_auc = roc_auc_score(y_test, classifier.predict(X_test))\n",
    "fpr, tpr, thresholds = roc_curve(y_test, classifier.predict_proba(X_test)[:,1])\n",
    "plt.figure(figsize=(8.00,6.00))\n",
    "plt.plot(fpr, tpr, label='MLP (area = %0.2f)' % classifier_roc_auc)\n",
    "plt.plot([0, 1], [0, 1],'r--')\n",
    "plt.xlim([0.0, 1.0])\n",
    "plt.ylim([0.0, 1.05])\n",
    "plt.xlabel('False Positive Rate')\n",
    "plt.ylabel('True Positive Rate')\n",
    "plt.title('Receiver operating characteristic')\n",
    "plt.legend(loc=\"lower right\")\n",
    "plt.savefig('Log_ROC', dpi = 800)\n",
    "plt.show()\n",
    "\n",
    "#print(\"FPR: \",fpr)\n",
    "#print(\"TPR: \", tpr)\n",
    "#print(\"Threashold: \", thresholds)"
   ],
   "metadata": {
    "collapsed": false,
    "pycharm": {
     "name": "#%%\n",
     "is_executing": false
    }
   }
  },
  {
   "cell_type": "markdown",
   "source": [
    "# Summary of classifiers results \n",
    "\n",
    "\n",
    "| Experiments |      Classifier     |                           X                           |         y        | Accuracy |\n",
    "|:-----------:|:-------------------:|:-----------------------------------------------------:|:----------------:|:--------:|\n",
    "|      #1     | Logistic Regression | `v_decile_score`                                      | `two_year_recid` |   0.65   |\n",
    "|      #2     | Logistic Regression | `v_decile_score`<br>`decile_score`                    | `two_year_recid` |   0.66   |\n",
    "|      #3     | Logistic Regression | `v_decile_score`<br>`decile_score`<br>`race`          | `two_year_recid` |   0.66   |\n",
    "|      #4     | Logistic Regression | `v_decile_score`<br>`decile_score`<br>`race`<br>`sex` | `two_year_recid` |   0.66   |\n",
    "|      #5     |         KNN         | `v_decile_score`<br>`decile_score`<br>`race`<br>`sex` | `two_year_recid` |   0.603  |\n",
    "|      #6     |         MLP         | `v_decile_score`<br>`decile_score`<br>`race`<br>`sex` | `two_year_recid` |   0.67   |"
   ],
   "metadata": {
    "collapsed": false,
    "pycharm": {
     "name": "#%% md\n"
    }
   }
  }
 ],
 "metadata": {
  "kernelspec": {
   "display_name": "Python 3",
   "language": "python",
   "name": "python3"
  },
  "language_info": {
   "codemirror_mode": {
    "name": "ipython",
    "version": 2
   },
   "file_extension": ".py",
   "mimetype": "text/x-python",
   "name": "python",
   "nbconvert_exporter": "python",
   "pygments_lexer": "ipython2",
   "version": "2.7.6"
  },
  "pycharm": {
   "stem_cell": {
    "cell_type": "raw",
    "source": [],
    "metadata": {
     "collapsed": false
    }
   }
  }
 },
 "nbformat": 4,
 "nbformat_minor": 0
}